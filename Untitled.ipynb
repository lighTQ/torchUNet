{
 "cells": [
  {
   "cell_type": "code",
   "execution_count": 3,
   "metadata": {
    "scrolled": false
   },
   "outputs": [],
   "source": [
    "import json\n",
    "import cv2 as cv\n",
    "import os\n",
    "import numpy as np\n",
    "import math\n",
    "import datetime\n",
    "import glob\n",
    "\n",
    "def RotateClockWise90(img):\n",
    "    trans_img = cv.transpose( img )\n",
    "    new_img = cv.flip(trans_img, 1)\n",
    "    return new_img\n",
    "\n",
    "gt_file = '/home/snowcloud/OCR_dataset/icdar2019/LVST/train/train_full_labels.json'\n",
    "image_path = '/home/snowcloud/OCR_dataset/icdar2019/LVST/train/train_full_images'\n",
    "\n",
    "dest_train_images = './train_images_preprocess/'\n",
    "dest_train_masks = './train_images_mask_preprocess/'\n",
    "\n",
    "if not os.path.exists(dest_train_images):\n",
    "    os.makedirs(dest_train_images)\n",
    "\n",
    "if not os.path.exists(dest_train_masks):\n",
    "    os.makedirs(dest_train_masks)"
   ]
  },
  {
   "cell_type": "code",
   "execution_count": 4,
   "metadata": {},
   "outputs": [],
   "source": [
    "with open(gt_file, 'r') as f:\n",
    "    text = f.read()"
   ]
  },
  {
   "cell_type": "code",
   "execution_count": 6,
   "metadata": {},
   "outputs": [],
   "source": [
    "gt_all = json.loads(text)"
   ]
  },
  {
   "cell_type": "code",
   "execution_count": 9,
   "metadata": {},
   "outputs": [],
   "source": [
    "for gt_all.items()"
   ]
  }
 ],
 "metadata": {
  "kernelspec": {
   "display_name": "Python 3",
   "language": "python",
   "name": "python3"
  },
  "language_info": {
   "codemirror_mode": {
    "name": "ipython",
    "version": 3
   },
   "file_extension": ".py",
   "mimetype": "text/x-python",
   "name": "python",
   "nbconvert_exporter": "python",
   "pygments_lexer": "ipython3",
   "version": "3.6.8"
  }
 },
 "nbformat": 4,
 "nbformat_minor": 2
}
